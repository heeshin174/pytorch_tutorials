{
  "cells": [
    {
      "cell_type": "markdown",
      "metadata": {
        "id": "fxfzZYOaR8P5"
      },
      "source": [
        "# Image classification using CNNs and pytorch\n",
        "\n",
        "pytorch와 합성곱 신경망을 이용해 사과 이미지 분류하기.\n",
        "\n",
        "출처: [플로우가 보이는 머신러닝 프로젝트 Ch5 (TensorFlow + Keras)](https://github.com/jasonyim2/book1/tree/main/Ch5)를 Pytorch로 변환했습니다. "
      ]
    },
    {
      "cell_type": "markdown",
      "metadata": {
        "id": "eoIgLrUGTHEz"
      },
      "source": [
        "## 1.Identify the problem.\n",
        "\n",
        "Your goal is indeed to classify pictures of apples into specific categories:\n",
        "\n",
        "- Apple Braebum\n",
        "- Apple Crimson Snow\n",
        "- Apple Golden 1\n",
        "- Apple Golden 2\n",
        "- Apple Golden 3\n",
        "\n",
        "Since there are three distinct categories, this is a **multiclass image classification** problem."
      ]
    },
    {
      "cell_type": "markdown",
      "metadata": {
        "id": "AqU8-SvyT4do"
      },
      "source": [
        "## 2.Choose the model and framework.\n",
        "\n",
        "- You decided to use a **pre-trained** image classification model and fine-tune it, which is a suitable approach, especially when you might have a **limited amount of labeled data**.\n",
        "- A **pre-trained model** is a model that has already been trained on a large dataset for a related task (like general image classification), and you leverage its existing knowledge.\n",
        "- You chose **EfficientNet-B0** as the specific pre-trained model. PyTorch provides access to many pre-trained models, including GoogleNet, within its `torchvision.models` library.\n",
        "- You decided to use **PyTorch** as your deep learning framework. PyTorch is a powerful framework, but it requires you to manually specify the device (like a GPU) to use, unlike some other frameworks that auto-detect it. You would typically set a device variable (e.g., 'cuda' if a GPU is available, otherwise 'cpu') and move your model, data, and labels to this device. Using a GPU (like a T4) is highly recommended for deep learning tasks to significantly speed up the training process"
      ]
    },
    {
      "cell_type": "markdown",
      "metadata": {
        "id": "Ya9TbC5mVDdi"
      },
      "source": [
        "## 3. Collect and prepare the data set.\n",
        "\n",
        "- You collected the data set containing pictures of apples and their corresponding labels for the five categories.\n",
        "- The specific \"Apple classification\" [data set is available on **Kaggle**](https://www.kaggle.com/datasets/barisyasli/fruit360). It is often provided in a structured format, perhaps with image file paths and corresponding category labels.\n",
        "- Since Fruits 360 data set is too large, I will only use \"Apple\" data set.\n",
        "- Before using the data in PyTorch, it needs some preparation:\n",
        "  - If labels are strings (like 'Apple Braebum', 'Apple Crimson Snow', ...), you would typically encode them into integers (e.g., 0, 1, ...) using a tool like `LabelEncoder` from `Scikit-learn`.\n",
        "  - Images need to be **preprocessed** consistently. Common steps include **resizing** all images to a uniform size (e.g., 128x128 pixels), converting them from image format (like `PIL` Image) into **PyTorch tensors**, and ensuring they have the correct data type (e.g., `torch.float`). PyTorch's `torchvision.transforms.Compose` can chain these preprocessing steps together.\n",
        "  - You will likely need to create a **custom PyTorch Dataset class** to define how to load your specific data (image paths and labels) and apply the necessary preprocessing transforms. This class inherits from `torch.utils.data.Dataset` and requires methods like `__len__` (to return the dataset size) and `__getitem__` (to load and preprocess a single data sample by index).\n",
        "  - The prepared dataset samples (images and labels) should be converted to **PyTorch tensors** and moved to your chosen device (GPU/CPU)."
      ]
    },
    {
      "cell_type": "markdown",
      "metadata": {
        "id": "EReMOrVjybSp"
      },
      "source": [
        "**Using google colab**\n",
        "\n",
        "```\n",
        "drive/MyDrive/Data/fruits-360-5/\n",
        "├── Training/\n",
        "│   ├── Apple Braeburn/ (492 files)\n",
        "│   │   ├── 0_100.jpg\n",
        "│   │   ├── 100_100.jpg\n",
        "│   │   └── ...\n",
        "│   ├── Apple Crimson Snow/ (444 files)\n",
        "│   │   ├── 0_100.jpg\n",
        "│   │   ├── 10_100.jpg\n",
        "│   │   └── ...\n",
        "│   ├── Apple Golden 1/ (492 files)\n",
        "│   │   ├── 0_100.jpg\n",
        "│   │   ├── 100_100.jpg\n",
        "│   │   └── ...\n",
        "│   └── Apple Golden 2/ (492 files)\n",
        "│   │   ├── 0_100.jpg\n",
        "│   │   ├── 100_100.jpg\n",
        "│   │   └── ...\n",
        "│   └── Apple Golden 3/ (481 files)\n",
        "│       ├── 0_100.jpg\n",
        "│       ├── 100_100.jpg\n",
        "│       └── ...\n",
        "|\n",
        "└── Test/\n",
        "    ├── Apple Braeburn/ (164 files)\n",
        "    │   ├── 0_100.jpg\n",
        "    │   ├── 10_100.jpg\n",
        "    │   └── ...\n",
        "    ├── Apple Crimson Snow/ (148 files)\n",
        "    │   ├── 0_100.jpg\n",
        "    │   ├── 10_100.jpg\n",
        "    │   └── ...\n",
        "    └── Apple Golden 1/ (164 files)\n",
        "    │   ├── 0_100.jpg\n",
        "    │   ├── 10_100.jpg\n",
        "    │   └── ...\n",
        "    └── Apple Golden 2/ (164 files)\n",
        "    │   ├── 0_100.jpg\n",
        "    │   ├── 10_100.jpg\n",
        "    |   └── ...\n",
        "    └── Apple Golden 3/ (161 files)\n",
        "        ├── 0_100.jpg\n",
        "        ├── 10_100.jpg\n",
        "        └── ...\n",
        "```"
      ]
    },
    {
      "cell_type": "code",
      "execution_count": 1,
      "metadata": {
        "colab": {
          "base_uri": "https://localhost:8080/"
        },
        "id": "5w1MZxAfQORO",
        "outputId": "e3715d3a-d7f9-45f0-a8b2-2ab457ab36c5"
      },
      "outputs": [
        {
          "name": "stdout",
          "output_type": "stream",
          "text": [
            "Mounted at /content/drive\n"
          ]
        }
      ],
      "source": [
        "from google.colab import drive\n",
        "drive.mount('/content/drive')"
      ]
    },
    {
      "cell_type": "code",
      "execution_count": null,
      "metadata": {
        "id": "LeN6vcDMROGt"
      },
      "outputs": [],
      "source": [
        "# 구글 드라이브에 미리 올린 압축파일을 풀기 위해 라이브러리를 불러오기\n",
        "import zipfile\n",
        "\n",
        "zip_ref = zipfile.ZipFile('/content/drive/MyDrive/Data/fruits-360-5.zip', 'r') # 압축 파일(zip file) 읽기\n",
        "zip_ref.extractall('/content/drive/MyDrive/Data/') # 압출 파일을 풀어서 지정한 폴더(예: Data 폴더)에 저장\n",
        "zip_ref.close()"
      ]
    },
    {
      "cell_type": "markdown",
      "metadata": {
        "id": "eU1rxwplYxGG"
      },
      "source": [
        "## 4. Divide the data set\n",
        "\n",
        "- You divided your data set into a **training set** and a **validation set**.\n",
        "- The **training set** is used to train the model, adjusting its weights and biases.\n",
        "- The **validation set** is used to evaluate the model's performance during training, typically after each epoch, to monitor its progress on data it hasn't directly seen during training and to help detect issues like overfitting.\n",
        "- The source for the Fruits 360 dataset it is only provided with a train set. While the Fruits 360 source example primarily focuses on train/test, including a validation set is a good practice for final evaluation.\n",
        "- A standard split often includes a third set: a **test set** (e.g., 70% train, 15% validation, 15% test). A test set is used only once after training is completely finished to provide an unbiased estimate of the model's performance on truly unseen data.\n",
        "- PyTorch's `DataLoader` is used to create iterators that provide data in batches from your dataset. You would create separate DataLoaders for your training and validation sets. The DataLoader manages batching and can shuffle the data (especially important for the training set)"
      ]
    },
    {
      "cell_type": "code",
      "execution_count": 2,
      "metadata": {
        "id": "GhiMdRP_SdR1"
      },
      "outputs": [],
      "source": [
        "# Importing\n",
        "import torch # Main PyTorch Library\n",
        "from torch import nn # Used for creating the layers and loss function\n",
        "from sklearn.metrics import classification_report, confusion_matrix\n",
        "import matplotlib.pyplot as plt # Used for visualizing the images and plotting the training progress\n",
        "import pandas as pd # Used to read/create dataframes (csv) and process tabular data\n",
        "import numpy as np # preprocessing and numerical/mathematical operations\n",
        "import os # Used to read the images path from the directory"
      ]
    },
    {
      "cell_type": "code",
      "execution_count": 3,
      "metadata": {
        "colab": {
          "base_uri": "https://localhost:8080/"
        },
        "id": "teJTBI0Ijz0I",
        "outputId": "bd296507-53f1-46e7-e0bd-2e928e5292f9"
      },
      "outputs": [
        {
          "name": "stdout",
          "output_type": "stream",
          "text": [
            "Using device: cuda\n"
          ]
        }
      ],
      "source": [
        "# detect the GPU if any, if not use CPU, change cuda to mps if you have a mac\n",
        "device = \"cuda\" if torch.cuda.is_available() else \"cpu\"\n",
        "print(f\"Using device: {device}\")"
      ]
    },
    {
      "cell_type": "code",
      "execution_count": 4,
      "metadata": {
        "colab": {
          "base_uri": "https://localhost:8080/",
          "height": 242
        },
        "id": "Pma8-DBUSXLF",
        "outputId": "3e0eac8a-ae3f-4b37-c112-ead9c760f573"
      },
      "outputs": [
        {
          "name": "stdout",
          "output_type": "stream",
          "text": [
            "Data shape is:  (3186, 2)\n",
            "\n"
          ]
        },
        {
          "data": {
            "application/vnd.google.colaboratory.intrinsic+json": {
              "summary": "{\n  \"name\": \"data_df\",\n  \"rows\": 3186,\n  \"fields\": [\n    {\n      \"column\": \"image_paths\",\n      \"properties\": {\n        \"dtype\": \"string\",\n        \"num_unique_values\": 3186,\n        \"samples\": [\n          \"/content/drive/MyDrive/Data/fruits-360-5/Training/Apple Golden 2/r_202_100.jpg\",\n          \"/content/drive/MyDrive/Data/fruits-360-5/Training/Apple Golden 2/255_100.jpg\",\n          \"/content/drive/MyDrive/Data/fruits-360-5/Test/Apple Golden 1/102_100.jpg\"\n        ],\n        \"semantic_type\": \"\",\n        \"description\": \"\"\n      }\n    },\n    {\n      \"column\": \"labels\",\n      \"properties\": {\n        \"dtype\": \"category\",\n        \"num_unique_values\": 5,\n        \"samples\": [\n          \"Apple Golden 3\",\n          \"Apple Golden 1\",\n          \"Apple Braeburn\"\n        ],\n        \"semantic_type\": \"\",\n        \"description\": \"\"\n      }\n    }\n  ]\n}",
              "type": "dataframe",
              "variable_name": "data_df"
            },
            "text/html": [
              "\n",
              "  <div id=\"df-d23d417b-42d3-40ed-a54d-6ca704337c28\" class=\"colab-df-container\">\n",
              "    <div>\n",
              "<style scoped>\n",
              "    .dataframe tbody tr th:only-of-type {\n",
              "        vertical-align: middle;\n",
              "    }\n",
              "\n",
              "    .dataframe tbody tr th {\n",
              "        vertical-align: top;\n",
              "    }\n",
              "\n",
              "    .dataframe thead th {\n",
              "        text-align: right;\n",
              "    }\n",
              "</style>\n",
              "<table border=\"1\" class=\"dataframe\">\n",
              "  <thead>\n",
              "    <tr style=\"text-align: right;\">\n",
              "      <th></th>\n",
              "      <th>image_paths</th>\n",
              "      <th>labels</th>\n",
              "    </tr>\n",
              "  </thead>\n",
              "  <tbody>\n",
              "    <tr>\n",
              "      <th>0</th>\n",
              "      <td>/content/drive/MyDrive/Data/fruits-360-5/Test/...</td>\n",
              "      <td>Apple Golden 2</td>\n",
              "    </tr>\n",
              "    <tr>\n",
              "      <th>1</th>\n",
              "      <td>/content/drive/MyDrive/Data/fruits-360-5/Test/...</td>\n",
              "      <td>Apple Golden 2</td>\n",
              "    </tr>\n",
              "    <tr>\n",
              "      <th>2</th>\n",
              "      <td>/content/drive/MyDrive/Data/fruits-360-5/Test/...</td>\n",
              "      <td>Apple Golden 2</td>\n",
              "    </tr>\n",
              "    <tr>\n",
              "      <th>3</th>\n",
              "      <td>/content/drive/MyDrive/Data/fruits-360-5/Test/...</td>\n",
              "      <td>Apple Golden 2</td>\n",
              "    </tr>\n",
              "    <tr>\n",
              "      <th>4</th>\n",
              "      <td>/content/drive/MyDrive/Data/fruits-360-5/Test/...</td>\n",
              "      <td>Apple Golden 2</td>\n",
              "    </tr>\n",
              "  </tbody>\n",
              "</table>\n",
              "</div>\n",
              "    <div class=\"colab-df-buttons\">\n",
              "\n",
              "  <div class=\"colab-df-container\">\n",
              "    <button class=\"colab-df-convert\" onclick=\"convertToInteractive('df-d23d417b-42d3-40ed-a54d-6ca704337c28')\"\n",
              "            title=\"Convert this dataframe to an interactive table.\"\n",
              "            style=\"display:none;\">\n",
              "\n",
              "  <svg xmlns=\"http://www.w3.org/2000/svg\" height=\"24px\" viewBox=\"0 -960 960 960\">\n",
              "    <path d=\"M120-120v-720h720v720H120Zm60-500h600v-160H180v160Zm220 220h160v-160H400v160Zm0 220h160v-160H400v160ZM180-400h160v-160H180v160Zm440 0h160v-160H620v160ZM180-180h160v-160H180v160Zm440 0h160v-160H620v160Z\"/>\n",
              "  </svg>\n",
              "    </button>\n",
              "\n",
              "  <style>\n",
              "    .colab-df-container {\n",
              "      display:flex;\n",
              "      gap: 12px;\n",
              "    }\n",
              "\n",
              "    .colab-df-convert {\n",
              "      background-color: #E8F0FE;\n",
              "      border: none;\n",
              "      border-radius: 50%;\n",
              "      cursor: pointer;\n",
              "      display: none;\n",
              "      fill: #1967D2;\n",
              "      height: 32px;\n",
              "      padding: 0 0 0 0;\n",
              "      width: 32px;\n",
              "    }\n",
              "\n",
              "    .colab-df-convert:hover {\n",
              "      background-color: #E2EBFA;\n",
              "      box-shadow: 0px 1px 2px rgba(60, 64, 67, 0.3), 0px 1px 3px 1px rgba(60, 64, 67, 0.15);\n",
              "      fill: #174EA6;\n",
              "    }\n",
              "\n",
              "    .colab-df-buttons div {\n",
              "      margin-bottom: 4px;\n",
              "    }\n",
              "\n",
              "    [theme=dark] .colab-df-convert {\n",
              "      background-color: #3B4455;\n",
              "      fill: #D2E3FC;\n",
              "    }\n",
              "\n",
              "    [theme=dark] .colab-df-convert:hover {\n",
              "      background-color: #434B5C;\n",
              "      box-shadow: 0px 1px 3px 1px rgba(0, 0, 0, 0.15);\n",
              "      filter: drop-shadow(0px 1px 2px rgba(0, 0, 0, 0.3));\n",
              "      fill: #FFFFFF;\n",
              "    }\n",
              "  </style>\n",
              "\n",
              "    <script>\n",
              "      const buttonEl =\n",
              "        document.querySelector('#df-d23d417b-42d3-40ed-a54d-6ca704337c28 button.colab-df-convert');\n",
              "      buttonEl.style.display =\n",
              "        google.colab.kernel.accessAllowed ? 'block' : 'none';\n",
              "\n",
              "      async function convertToInteractive(key) {\n",
              "        const element = document.querySelector('#df-d23d417b-42d3-40ed-a54d-6ca704337c28');\n",
              "        const dataTable =\n",
              "          await google.colab.kernel.invokeFunction('convertToInteractive',\n",
              "                                                    [key], {});\n",
              "        if (!dataTable) return;\n",
              "\n",
              "        const docLinkHtml = 'Like what you see? Visit the ' +\n",
              "          '<a target=\"_blank\" href=https://colab.research.google.com/notebooks/data_table.ipynb>data table notebook</a>'\n",
              "          + ' to learn more about interactive tables.';\n",
              "        element.innerHTML = '';\n",
              "        dataTable['output_type'] = 'display_data';\n",
              "        await google.colab.output.renderOutput(dataTable, element);\n",
              "        const docLink = document.createElement('div');\n",
              "        docLink.innerHTML = docLinkHtml;\n",
              "        element.appendChild(docLink);\n",
              "      }\n",
              "    </script>\n",
              "  </div>\n",
              "\n",
              "\n",
              "    <div id=\"df-d46a98b7-3634-44ee-835f-3b1ff1ef3edf\">\n",
              "      <button class=\"colab-df-quickchart\" onclick=\"quickchart('df-d46a98b7-3634-44ee-835f-3b1ff1ef3edf')\"\n",
              "                title=\"Suggest charts\"\n",
              "                style=\"display:none;\">\n",
              "\n",
              "<svg xmlns=\"http://www.w3.org/2000/svg\" height=\"24px\"viewBox=\"0 0 24 24\"\n",
              "     width=\"24px\">\n",
              "    <g>\n",
              "        <path d=\"M19 3H5c-1.1 0-2 .9-2 2v14c0 1.1.9 2 2 2h14c1.1 0 2-.9 2-2V5c0-1.1-.9-2-2-2zM9 17H7v-7h2v7zm4 0h-2V7h2v10zm4 0h-2v-4h2v4z\"/>\n",
              "    </g>\n",
              "</svg>\n",
              "      </button>\n",
              "\n",
              "<style>\n",
              "  .colab-df-quickchart {\n",
              "      --bg-color: #E8F0FE;\n",
              "      --fill-color: #1967D2;\n",
              "      --hover-bg-color: #E2EBFA;\n",
              "      --hover-fill-color: #174EA6;\n",
              "      --disabled-fill-color: #AAA;\n",
              "      --disabled-bg-color: #DDD;\n",
              "  }\n",
              "\n",
              "  [theme=dark] .colab-df-quickchart {\n",
              "      --bg-color: #3B4455;\n",
              "      --fill-color: #D2E3FC;\n",
              "      --hover-bg-color: #434B5C;\n",
              "      --hover-fill-color: #FFFFFF;\n",
              "      --disabled-bg-color: #3B4455;\n",
              "      --disabled-fill-color: #666;\n",
              "  }\n",
              "\n",
              "  .colab-df-quickchart {\n",
              "    background-color: var(--bg-color);\n",
              "    border: none;\n",
              "    border-radius: 50%;\n",
              "    cursor: pointer;\n",
              "    display: none;\n",
              "    fill: var(--fill-color);\n",
              "    height: 32px;\n",
              "    padding: 0;\n",
              "    width: 32px;\n",
              "  }\n",
              "\n",
              "  .colab-df-quickchart:hover {\n",
              "    background-color: var(--hover-bg-color);\n",
              "    box-shadow: 0 1px 2px rgba(60, 64, 67, 0.3), 0 1px 3px 1px rgba(60, 64, 67, 0.15);\n",
              "    fill: var(--button-hover-fill-color);\n",
              "  }\n",
              "\n",
              "  .colab-df-quickchart-complete:disabled,\n",
              "  .colab-df-quickchart-complete:disabled:hover {\n",
              "    background-color: var(--disabled-bg-color);\n",
              "    fill: var(--disabled-fill-color);\n",
              "    box-shadow: none;\n",
              "  }\n",
              "\n",
              "  .colab-df-spinner {\n",
              "    border: 2px solid var(--fill-color);\n",
              "    border-color: transparent;\n",
              "    border-bottom-color: var(--fill-color);\n",
              "    animation:\n",
              "      spin 1s steps(1) infinite;\n",
              "  }\n",
              "\n",
              "  @keyframes spin {\n",
              "    0% {\n",
              "      border-color: transparent;\n",
              "      border-bottom-color: var(--fill-color);\n",
              "      border-left-color: var(--fill-color);\n",
              "    }\n",
              "    20% {\n",
              "      border-color: transparent;\n",
              "      border-left-color: var(--fill-color);\n",
              "      border-top-color: var(--fill-color);\n",
              "    }\n",
              "    30% {\n",
              "      border-color: transparent;\n",
              "      border-left-color: var(--fill-color);\n",
              "      border-top-color: var(--fill-color);\n",
              "      border-right-color: var(--fill-color);\n",
              "    }\n",
              "    40% {\n",
              "      border-color: transparent;\n",
              "      border-right-color: var(--fill-color);\n",
              "      border-top-color: var(--fill-color);\n",
              "    }\n",
              "    60% {\n",
              "      border-color: transparent;\n",
              "      border-right-color: var(--fill-color);\n",
              "    }\n",
              "    80% {\n",
              "      border-color: transparent;\n",
              "      border-right-color: var(--fill-color);\n",
              "      border-bottom-color: var(--fill-color);\n",
              "    }\n",
              "    90% {\n",
              "      border-color: transparent;\n",
              "      border-bottom-color: var(--fill-color);\n",
              "    }\n",
              "  }\n",
              "</style>\n",
              "\n",
              "      <script>\n",
              "        async function quickchart(key) {\n",
              "          const quickchartButtonEl =\n",
              "            document.querySelector('#' + key + ' button');\n",
              "          quickchartButtonEl.disabled = true;  // To prevent multiple clicks.\n",
              "          quickchartButtonEl.classList.add('colab-df-spinner');\n",
              "          try {\n",
              "            const charts = await google.colab.kernel.invokeFunction(\n",
              "                'suggestCharts', [key], {});\n",
              "          } catch (error) {\n",
              "            console.error('Error during call to suggestCharts:', error);\n",
              "          }\n",
              "          quickchartButtonEl.classList.remove('colab-df-spinner');\n",
              "          quickchartButtonEl.classList.add('colab-df-quickchart-complete');\n",
              "        }\n",
              "        (() => {\n",
              "          let quickchartButtonEl =\n",
              "            document.querySelector('#df-d46a98b7-3634-44ee-835f-3b1ff1ef3edf button');\n",
              "          quickchartButtonEl.style.display =\n",
              "            google.colab.kernel.accessAllowed ? 'block' : 'none';\n",
              "        })();\n",
              "      </script>\n",
              "    </div>\n",
              "\n",
              "    </div>\n",
              "  </div>\n"
            ],
            "text/plain": [
              "                                         image_paths          labels\n",
              "0  /content/drive/MyDrive/Data/fruits-360-5/Test/...  Apple Golden 2\n",
              "1  /content/drive/MyDrive/Data/fruits-360-5/Test/...  Apple Golden 2\n",
              "2  /content/drive/MyDrive/Data/fruits-360-5/Test/...  Apple Golden 2\n",
              "3  /content/drive/MyDrive/Data/fruits-360-5/Test/...  Apple Golden 2\n",
              "4  /content/drive/MyDrive/Data/fruits-360-5/Test/...  Apple Golden 2"
            ]
          },
          "execution_count": 4,
          "metadata": {},
          "output_type": "execute_result"
        }
      ],
      "source": [
        "image_path = []  # Stores paths to all images\n",
        "labels = []     # Stores corresponding labels\n",
        "data_dir = '/content/drive/MyDrive/Data/fruits-360-5'\n",
        "\n",
        "for i in os.listdir(data_dir): # Looping through the first directory which has the train and val images\n",
        "  # i = Training or Test\n",
        "  for label in os.listdir(f\"{data_dir}/{i}\"): # Looping through the first directory which has the labels folders\n",
        "    # label = Apple Braeburn or Apple Crimson Snow or Apple Golden 1, 2, 3\n",
        "    for image in os.listdir(f\"{data_dir}/{i}/{label}\"): # Looping through all the images of this label\n",
        "      labels.append(label) # Append/Put this label in the list\n",
        "      image_path.append(f\"{data_dir}/{i}/{label}/{image}\") # Append/Put this image path in the list to read it later\n",
        "\n",
        "data_df = pd.DataFrame(zip(image_path, labels), columns = ['image_paths', 'labels']) # Create a dataframe contains the images paths and the labels\n",
        "\n",
        "print(\"Data shape is: \", data_df.shape)\n",
        "print()\n",
        "data_df.head() # Visualizing the first 5 rows by default"
      ]
    },
    {
      "cell_type": "markdown",
      "metadata": {
        "id": "aKMbdl_HTjnr"
      },
      "source": [
        "**Split the data**\n",
        "\n",
        "- Clean train/val/test split with stratification (70/15/15)"
      ]
    },
    {
      "cell_type": "code",
      "execution_count": 5,
      "metadata": {
        "colab": {
          "base_uri": "https://localhost:8080/"
        },
        "id": "yUODRbGQThi7",
        "outputId": "0e7c94bd-948d-444a-86bd-f55b8a3bb670"
      },
      "outputs": [
        {
          "name": "stdout",
          "output_type": "stream",
          "text": [
            "Training samples: 2230\n",
            "Validation samples: 478\n",
            "Testing samples: 478\n"
          ]
        }
      ],
      "source": [
        "from sklearn.model_selection import train_test_split\n",
        "\n",
        "# Split data into train, validation, and test sets\n",
        "train_df, temp_df = train_test_split(data_df, test_size=0.3, stratify=data_df['labels'], random_state=42)\n",
        "val_df, test_df = train_test_split(temp_df, test_size=0.5, stratify=temp_df['labels'], random_state=42)\n",
        "\n",
        "print(f\"Training samples: {len(train_df)}\")\n",
        "print(f\"Validation samples: {len(val_df)}\")\n",
        "print(f\"Testing samples: {len(test_df)}\")"
      ]
    },
    {
      "cell_type": "markdown",
      "metadata": {
        "id": "rthHBa0cdiCR"
      },
      "source": [
        "## 5. Dataset & Transforms"
      ]
    },
    {
      "cell_type": "code",
      "execution_count": 6,
      "metadata": {
        "id": "m0TQP2Vsuzcj"
      },
      "outputs": [],
      "source": [
        "from sklearn.preprocessing import LabelEncoder # Label Encoder to encode the classes from strings to numbers\n",
        "from torch.utils.data import Dataset, DataLoader # Dataset class and DataLoader for creating the objects\n",
        "from PIL import Image # Used to read the images from the directory\n",
        "\n",
        "label_encoder = LabelEncoder()\n",
        "label_encoder.fit(data_df['labels']) # Fit the label encoder once on all categories\n",
        "\n",
        "class CustomImageDataset(Dataset):\n",
        "  def __init__(self, dataframe, transform=None):\n",
        "    self.dataframe = dataframe\n",
        "    self.transform = transform\n",
        "    self.labels = torch.tensor(label_encoder.transform(dataframe['labels']))\n",
        "\n",
        "  def __len__(self):\n",
        "    return self.dataframe.shape[0]\n",
        "\n",
        "  def __getitem__(self, idx):\n",
        "    img_path = self.dataframe.iloc[idx, 0]\n",
        "    label = self.labels[idx]\n",
        "    image = Image.open(img_path).convert('RGB')\n",
        "    if self.transform:\n",
        "      image = self.transform(image)\n",
        "\n",
        "    return image, label"
      ]
    },
    {
      "cell_type": "code",
      "execution_count": 7,
      "metadata": {
        "id": "YHwyQnJls4Zc"
      },
      "outputs": [],
      "source": [
        "import torchvision\n",
        "import torchvision.transforms as transforms # Transform function used to modify and preprocess all the images\n",
        "\n",
        "# Enhanced data augmentation\n",
        "train_transform = transforms.Compose([\n",
        "    transforms.RandomResizedCrop(224),\n",
        "    transforms.RandomHorizontalFlip(),\n",
        "    transforms.RandomRotation(20),\n",
        "    transforms.RandomAffine(degrees=0, translate=(0.1, 0.1)),\n",
        "    transforms.ColorJitter(brightness=0.2, contrast=0.2, saturation=0.2),\n",
        "    transforms.ToTensor(),\n",
        "    transforms.Normalize(mean=[0.485, 0.456, 0.406], std=[0.229, 0.224, 0.225]) # ImageNet stats\n",
        "])\n",
        "\n",
        "# Keep validation transforms simpler\n",
        "val_transform = transforms.Compose([\n",
        "    transforms.Resize(256),\n",
        "    transforms.CenterCrop(224),\n",
        "    transforms.ToTensor(),\n",
        "    transforms.Normalize(mean=[0.485, 0.456, 0.406], std=[0.229, 0.224, 0.225])\n",
        "])"
      ]
    },
    {
      "cell_type": "markdown",
      "metadata": {
        "id": "IaINAkyXctI7"
      },
      "source": [
        "### DataLoader and batch\n",
        "\n",
        "Okay, let's delve into more details about **PyTorch's `DataLoader`** and **batches**, building upon your process description and the information from the sources.\n",
        "\n",
        "100개의 데이터를 batch_size=5로 설정하면 → 100 ÷ 5 = 20개의 배치가 생기고 `DataLoader`는 이 계산대로 실제로 5개씩 데이터를 묶어서 차례차례 꺼내 주는 구현체/class 이다.\n",
        "\n",
        "1.  **What is a `DataLoader`?**\n",
        "    *   A `DataLoader` is a PyTorch object that wraps a PyTorch `Dataset`.\n",
        "    *   Its primary function is to provide an efficient way to **iterate through a dataset in batches**.\n",
        "    *   Think of it as a mechanism that helps you *load* your data during the training process.\n",
        "\n",
        "2.  **Why use Batches?**\n",
        "    *   When training deep learning models, you don't typically feed individual data points one by one. Instead, you process them in **groups or batches**.\n",
        "    *   Processing data in batches is much more computationally efficient, especially when using hardware accelerators like **GPUs**. A GPU can perform parallel computations on multiple data points simultaneously.\n",
        "    *   The gradient calculations and weight updates during training are performed based on the average error across a batch, which provides a more stable learning signal compared to updating weights based on each single data point.\n",
        "\n",
        "3.  **How `DataLoader` works with Batches:**\n",
        "    *   The `DataLoader` takes your `Dataset` and divides it into smaller, manageable chunks based on a specified **`batch_size`**.\n",
        "    *   During each **epoch** (a full pass through the entire dataset), you use a `for` loop to iterate over the `DataLoader`.\n",
        "    *   In each iteration of this loop, the `DataLoader` yields one **batch** of data. This batch contains a group of input samples (images in your case) and their corresponding labels, according to the defined `batch_size`.\n",
        "    *   The source illustrates this by showing how iterating through a `DataLoader` provides `inputs, labels` where the inputs and labels have a dimension corresponding to the batch size. For example, if the `batch_size` is 8, a loop iteration would yield inputs with a shape reflecting 8 samples and labels with a shape reflecting 8 labels.\n",
        "\n",
        "4.  **Key Parameters of `DataLoader`:**\n",
        "    *   **`dataset`**: This is the PyTorch `Dataset` object that the `DataLoader` will load data from. In your process, you would create separate `CustomImageDataset` instances for your training and validation dataframes, and then pass these dataset instances to the respective `DataLoader` constructors.\n",
        "    *   **`batch_size`**: This integer determines the number of data samples included in each batch. The sources show examples using different batch sizes, such as 8, 16, or 32. You define this as a hyperparameter.\n",
        "    *   **`shuffle`**: This is a boolean parameter, commonly set to `True` for the training `DataLoader`. When `shuffle=True`, the order of the data samples is randomized before each epoch. This helps to prevent the model from learning the order of the data or being biased towards certain patterns that might appear sequentially in the dataset. For validation and testing data loaders, `shuffle` is typically set to `False`.\n",
        "\n",
        "In essence, `DataLoader` is the utility that makes the batch-wise processing of your dataset seamless and efficient in PyTorch, managing the data loading, batching, and optional shuffling for you."
      ]
    },
    {
      "cell_type": "code",
      "execution_count": 8,
      "metadata": {
        "id": "0Q-GcI_lslQR"
      },
      "outputs": [],
      "source": [
        "# Set Hypervariable\n",
        "BATCH_SIZE = 4\n",
        "EPOCHS = 15"
      ]
    },
    {
      "cell_type": "code",
      "execution_count": 9,
      "metadata": {
        "id": "beRAPQPne8bc"
      },
      "outputs": [],
      "source": [
        "train_dataset = CustomImageDataset(dataframe=train_df, transform=train_transform)\n",
        "val_dataset = CustomImageDataset(dataframe=val_df, transform=val_transform)\n",
        "test_dataset = CustomImageDataset(dataframe=test_df, transform=val_transform)\n",
        "\n",
        "# Not specifying num_workers=0 can lead to multiprocessing issues in notebook environments like Colab.\n",
        "train_loader = DataLoader(train_dataset, batch_size=BATCH_SIZE, shuffle=True, num_workers=0)\n",
        "val_loader = DataLoader(val_dataset, batch_size=BATCH_SIZE, shuffle=False, num_workers=0)\n",
        "test_loader = DataLoader(test_dataset, batch_size=BATCH_SIZE, shuffle=False, num_workers=0)"
      ]
    },
    {
      "cell_type": "markdown",
      "metadata": {
        "id": "1qlCo-mVfWaj"
      },
      "source": [
        "## 6. Model Selection and Fine-tuning\n",
        "\n",
        "We use a recent model architecture with better performance.\n",
        "\n",
        "- EfficientNet-B0 with proper transfer learning setup\n",
        "- Strategic layer freezing to prevent overfitting\n",
        "- Dropout in the classifier for regularization\n",
        "- Adding a learning rate scheduler can help converge faster and achieve better results"
      ]
    },
    {
      "cell_type": "code",
      "execution_count": 10,
      "metadata": {
        "colab": {
          "base_uri": "https://localhost:8080/"
        },
        "id": "2I1Hl2x9gkFH",
        "outputId": "9b09d062-4371-48cb-c114-1bb247fa2e7f"
      },
      "outputs": [
        {
          "name": "stderr",
          "output_type": "stream",
          "text": [
            "Downloading: \"https://download.pytorch.org/models/efficientnet_b0_rwightman-7f5810bc.pth\" to /root/.cache/torch/hub/checkpoints/efficientnet_b0_rwightman-7f5810bc.pth\n",
            "100%|██████████| 20.5M/20.5M [00:00<00:00, 171MB/s]\n"
          ]
        }
      ],
      "source": [
        "from torchvision import models # import pretrained models in PyTorch library\n",
        "from torchvision.models import EfficientNet_B0_Weights # Use a more modern architecture like EfficientNet or ResNet\n",
        "\n",
        "# 1. Choose the pretrained weights\n",
        "weights = EfficientNet_B0_Weights.DEFAULT  # or .IMAGENET1K_V1 if you need the older ones\n",
        "\n",
        "# 2. Load the model with those weights\n",
        "model = models.efficientnet_b0(weights=weights)\n",
        "\n",
        "# 3. Freeze everything except the classifier head\n",
        "for name, param in model.named_parameters():\n",
        "    # any parameter *not* in the classifier will be frozen\n",
        "    if not name.startswith(\"classifier\"):\n",
        "        param.requires_grad = False\n",
        "\n",
        "# 4. Replace the classifier to match your num_classes\n",
        "num_classes = data_df[\"labels\"].nunique()\n",
        "in_features = model.classifier[1].in_features  # the penultimate layer’s size\n",
        "\n",
        "model.classifier = nn.Sequential(\n",
        "    nn.Dropout(0.2),\n",
        "    nn.Linear(in_features, num_classes)\n",
        ")\n",
        "\n",
        "model = model.to(device)"
      ]
    },
    {
      "cell_type": "code",
      "execution_count": 12,
      "metadata": {
        "id": "qbpO3TfshDbp"
      },
      "outputs": [],
      "source": [
        "import torch.optim as optim\n",
        "\n",
        "# Optimizer with weight decay for regularization\n",
        "optimizer = optim.AdamW(model.parameters(), lr=0.001, weight_decay=1e-4)\n",
        "# lr = Learning rate\n",
        "# weight_decay = L2 regularization\n",
        "\n",
        "# Learning rate scheduler\n",
        "scheduler = optim.lr_scheduler.ReduceLROnPlateau(\n",
        "    optimizer, mode='min', factor=0.5, patience=2\n",
        ")\n",
        "\n",
        "# Cross Entropy Loss function\n",
        "criterion = nn.CrossEntropyLoss()"
      ]
    },
    {
      "cell_type": "markdown",
      "metadata": {
        "id": "q_MbGndRhewB"
      },
      "source": [
        "## 7. Training Pipeline:\n",
        "\n",
        "- Mixed precision training with autocast and GradScaler\n",
        "- Early stopping with best model saving\n",
        "- ReduceLROnPlateau scheduler properly configured\n",
        "- Clean training/validation loops with metric tracking\n",
        "\n",
        "### 혼합 정밀도(mixed precision)\n",
        "\n",
        "- `with autocast():` 혼합 정밀도(mixed precision)를 사용하는 코드:\n",
        "\n",
        "`autocast()`는 PyTorch에서 자동으로 float16(반정밀도) 과 float32(정밀도) 를 적절히 섞어서 계산하게 해주는 핵심 함수이다. `with autocast():` 블록 안에서 계산되는 연산들은 자동으로 더 빠르고 메모리를 덜 쓰는 float16으로 처리된다. 다만, float16만 쓰면 문제가 생기니까 PyTorch가 자동으로 필요한 부분만 float32로 처리한다.\n",
        "\n",
        "이렇게 정밀도를 섞어서 처리하는 걸 **혼합 정밀도(mixed precision)** 라고 한다. mixed precision이 있으면 GradScaler도 함께 써야 훈련이 안정적으로 된다.\n",
        "\n",
        "### mixed precision with GradScaler\n",
        "\n",
        "GradScaler는 정확도에 영향이 없고, 훈련을 안정적으로 만드는 도구.\n",
        "\n",
        "- float32(기본 정밀도) 로만 훈련하면 → GradScaler 없어도 됨!\n",
        "- float16(혼합 정밀도) 를 쓰고 있으면 → GradScaler를 없애면 훈련이 불안정해질 수 있어(NaN 나올 수 있음).\n",
        "\n",
        "| 기능      | 혼합 정밀도 사용            | 혼합 정밀도 미사용 (지금 코드) |\n",
        "| ------- | -------------------- | ------------------ |\n",
        "| 연산 속도   | 빠름 (특히 A100 등 GPU에서) | 조금 느릴 수 있음         |\n",
        "| 메모리 사용량 | 적음                   | 조금 더 많음            |\n",
        "| 코드 복잡도  | autocast + scaler 필요 | 훨씬 단순함             |\n",
        "| 안정성     | scaler가 필요함          | 기본 float32라 안정적임   |\n",
        "\n",
        "### 실전 code\n",
        "\n",
        "GPU가 지원하고, 안정성 문제만 없다면 가능하면 **mixed precision(혼합 정밀도)**를 사용한다.\n",
        "\n",
        "최근 논문 코드나 Kaggle top-solution 대부분이 mixed precision을 사용한다. 특히 대규모 모델이나 Vision/Transformer 쪽은 거의 기본 세팅이다.\n",
        "\n",
        "- 예: OpenAI, Meta, Google 논문 코드 보면 다 autocast() 켜져 있음.\n",
        "\n",
        "❗ **장점**\n",
        "- 속도 빠름: 학습 시간 최대 2배 가까이 단축될 수 있어. (시간 = 돈)\n",
        "- GPU 메모리 절약: 더 큰 배치도 가능하거나, 더 복잡한 모델 사용 가능.\n",
        "  - 메모리 효율이 좋아서 더 많은 실험을 한꺼번에 돌릴 수 있음.\n",
        "- PyTorch에서 `autocast()` + `GradScaler()` 덕분에 안정성도 대부분 확보됨.\n",
        "\n",
        "❗ **그럼 언제 float32 쓰는 게 더 나을까?**\n",
        "- 디버깅 중일 때: float32가 더 직관적이고 안정적이라 문제 추적하기 쉬워.\n",
        "- 특정 모델이 float16에서 NaN을 자주 뿜을 때\n",
        "- 낮은 성능의 GPU 사용 중일 때 (예: float16 지원이 약한 GTX 시리즈 등)"
      ]
    },
    {
      "cell_type": "code",
      "execution_count": 13,
      "metadata": {
        "id": "m6s1f9Fzh1Iq"
      },
      "outputs": [],
      "source": [
        "# Create a complete training function that integrates early stopping and mixed precision\n",
        "# Add this after defining the model, optimizer, and criterion\n",
        "\n",
        "from torch.amp import autocast, GradScaler\n",
        "\n",
        "def train_model(model, train_loader, val_loader, criterion, optimizer, scheduler, num_epochs=15, patience=5):\n",
        "    # Initialize the scaler for mixed precision\n",
        "    scaler = GradScaler()\n",
        "\n",
        "    best_val_loss = float('inf')\n",
        "    counter = 0\n",
        "    train_losses = []\n",
        "    train_accs = []\n",
        "    val_losses = []\n",
        "    val_accs = []\n",
        "\n",
        "    for epoch in range(num_epochs):\n",
        "        # Training phase\n",
        "        model.train()\n",
        "        running_loss = 0.0\n",
        "        correct = 0\n",
        "        total = 0\n",
        "\n",
        "        for inputs, labels in train_loader:\n",
        "            inputs, labels = inputs.to(device), labels.to(device)\n",
        "\n",
        "            # Mixed precision training\n",
        "            with autocast(device_type=device):\n",
        "                outputs = model(inputs) # 1. Do the forward pass\n",
        "                loss = criterion(outputs, labels) # 2. Calculate the loss\n",
        "\n",
        "            # Scale the loss and do backward pass\n",
        "            optimizer.zero_grad() # 3. reset gradients\n",
        "            scaler.scale(loss).backward() # 4. Perfom backpropagation\n",
        "            scaler.step(optimizer) # 5. Update the model\n",
        "            scaler.update()\n",
        "\n",
        "            running_loss += loss.item() * inputs.size(0)\n",
        "            _, predicted = outputs.max(1)\n",
        "            total += labels.size(0)\n",
        "            correct += predicted.eq(labels).sum().item()\n",
        "\n",
        "        epoch_train_loss = running_loss / len(train_loader.dataset)\n",
        "        epoch_train_acc = 100. * correct / total\n",
        "        train_losses.append(epoch_train_loss)\n",
        "        train_accs.append(epoch_train_acc)\n",
        "\n",
        "        # Validation phase\n",
        "        model.eval()\n",
        "        val_loss = 0.0\n",
        "        correct = 0\n",
        "        total = 0\n",
        "\n",
        "        with torch.inference_mode():\n",
        "            for inputs, labels in val_loader:\n",
        "                inputs, labels = inputs.to(device), labels.to(device)\n",
        "                outputs = model(inputs) # 1. Do the forward pass\n",
        "                loss = criterion(outputs, labels) # 2. Calculate the loss\n",
        "\n",
        "                val_loss += loss.item() * inputs.size(0)\n",
        "                _, predicted = outputs.max(1)\n",
        "                total += labels.size(0)\n",
        "                correct += predicted.eq(labels).sum().item()\n",
        "\n",
        "        epoch_val_loss = val_loss / len(val_loader.dataset)\n",
        "        epoch_val_acc = 100. * correct / total\n",
        "        val_losses.append(epoch_val_loss)\n",
        "        val_accs.append(epoch_val_acc)\n",
        "\n",
        "        # Update learning rate\n",
        "        scheduler.step(epoch_val_loss)\n",
        "\n",
        "        print(f'Epoch {epoch+1}/{num_epochs}:')\n",
        "        print(f'Train Loss: {epoch_train_loss:.4f}, Train Acc: {epoch_train_acc:.2f}%')\n",
        "        print(f'Val Loss: {epoch_val_loss:.4f}, Val Acc: {epoch_val_acc:.2f}%')\n",
        "\n",
        "        # Early stopping check\n",
        "        if epoch_val_loss < best_val_loss:\n",
        "            best_val_loss = epoch_val_loss\n",
        "            counter = 0\n",
        "            # Save the best model\n",
        "            torch.save(model.state_dict(), 'best_model.pth')\n",
        "            print(f\"Saved best model with validation loss: {best_val_loss:.4f}\")\n",
        "        else:\n",
        "            counter += 1\n",
        "            if counter >= patience:\n",
        "                print(f'Early stopping at epoch {epoch+1}')\n",
        "                break\n",
        "\n",
        "    # Load best model\n",
        "    model.load_state_dict(torch.load('best_model.pth'))\n",
        "    return model, train_losses, train_accs, val_losses, val_accs"
      ]
    },
    {
      "cell_type": "markdown",
      "metadata": {
        "id": "QRhn9KV1vfry"
      },
      "source": [
        "## 8. Evaluation & Visualization:\n",
        "\n",
        "- Separate evaluation function for test set\n",
        "- Clear visualization of training metrics"
      ]
    },
    {
      "cell_type": "code",
      "execution_count": 14,
      "metadata": {
        "id": "YqwxYy_6vAcK"
      },
      "outputs": [],
      "source": [
        "# Add a proper evaluation function\n",
        "def evaluate_model(model, test_loader):\n",
        "    model.eval()\n",
        "    correct = 0\n",
        "    total = 0\n",
        "\n",
        "    with torch.inference_mode():\n",
        "        for inputs, labels in test_loader:\n",
        "            inputs, labels = inputs.to(device), labels.to(device)\n",
        "            outputs = model(inputs)\n",
        "            _, predicted = outputs.max(1)\n",
        "            total += labels.size(0)\n",
        "            correct += predicted.eq(labels).sum().item()\n",
        "\n",
        "    test_acc = 100. * correct / total\n",
        "    print(f'Test Accuracy: {test_acc:.2f}%')\n",
        "    return test_acc"
      ]
    },
    {
      "cell_type": "code",
      "execution_count": 15,
      "metadata": {
        "colab": {
          "base_uri": "https://localhost:8080/"
        },
        "id": "scdN4kgavqo-",
        "outputId": "e44deb8a-635a-42ca-aa4e-1f967c1cfb62"
      },
      "outputs": [
        {
          "name": "stdout",
          "output_type": "stream",
          "text": [
            "Epoch 1/15:\n",
            "Train Loss: 0.8849, Train Acc: 67.49%\n",
            "Val Loss: 0.4163, Val Acc: 81.80%\n",
            "Saved best model with validation loss: 0.4163\n",
            "Epoch 2/15:\n",
            "Train Loss: 0.6671, Train Acc: 74.22%\n",
            "Val Loss: 0.3464, Val Acc: 84.31%\n",
            "Saved best model with validation loss: 0.3464\n",
            "Epoch 3/15:\n",
            "Train Loss: 0.5922, Train Acc: 77.44%\n",
            "Val Loss: 0.4086, Val Acc: 81.38%\n",
            "Epoch 4/15:\n",
            "Train Loss: 0.6052, Train Acc: 76.86%\n",
            "Val Loss: 0.2374, Val Acc: 91.63%\n",
            "Saved best model with validation loss: 0.2374\n",
            "Epoch 5/15:\n",
            "Train Loss: 0.5718, Train Acc: 78.65%\n",
            "Val Loss: 0.3011, Val Acc: 85.15%\n",
            "Epoch 6/15:\n",
            "Train Loss: 0.5706, Train Acc: 78.57%\n",
            "Val Loss: 0.2314, Val Acc: 88.91%\n",
            "Saved best model with validation loss: 0.2314\n",
            "Epoch 7/15:\n",
            "Train Loss: 0.5407, Train Acc: 79.24%\n",
            "Val Loss: 0.2633, Val Acc: 92.05%\n",
            "Epoch 8/15:\n",
            "Train Loss: 0.5454, Train Acc: 79.24%\n",
            "Val Loss: 0.2289, Val Acc: 91.84%\n",
            "Saved best model with validation loss: 0.2289\n",
            "Epoch 9/15:\n",
            "Train Loss: 0.5110, Train Acc: 81.48%\n",
            "Val Loss: 0.2482, Val Acc: 89.96%\n",
            "Epoch 10/15:\n",
            "Train Loss: 0.5346, Train Acc: 79.55%\n",
            "Val Loss: 0.2314, Val Acc: 90.59%\n",
            "Epoch 11/15:\n",
            "Train Loss: 0.5833, Train Acc: 77.26%\n",
            "Val Loss: 0.1754, Val Acc: 94.14%\n",
            "Saved best model with validation loss: 0.1754\n",
            "Epoch 12/15:\n",
            "Train Loss: 0.5756, Train Acc: 77.58%\n",
            "Val Loss: 0.3465, Val Acc: 84.52%\n",
            "Epoch 13/15:\n",
            "Train Loss: 0.4944, Train Acc: 81.17%\n",
            "Val Loss: 0.2585, Val Acc: 88.28%\n",
            "Epoch 14/15:\n",
            "Train Loss: 0.5534, Train Acc: 78.03%\n",
            "Val Loss: 0.2634, Val Acc: 86.82%\n",
            "Epoch 15/15:\n",
            "Train Loss: 0.4988, Train Acc: 81.35%\n",
            "Val Loss: 0.1778, Val Acc: 91.63%\n"
          ]
        }
      ],
      "source": [
        "# Add a cell to run the training (it takes 30m in google colab)\n",
        "model, train_losses, train_accs, val_losses, val_accs = train_model(\n",
        "    model,\n",
        "    train_loader,\n",
        "    val_loader,\n",
        "    criterion,\n",
        "    optimizer,\n",
        "    scheduler,\n",
        "    num_epochs=EPOCHS,\n",
        "    patience=5\n",
        ")"
      ]
    },
    {
      "cell_type": "code",
      "execution_count": 16,
      "metadata": {
        "colab": {
          "base_uri": "https://localhost:8080/"
        },
        "id": "gQeJsz_t7C6O",
        "outputId": "40e0b235-0b63-47c9-b192-24fe52ca597f"
      },
      "outputs": [
        {
          "name": "stdout",
          "output_type": "stream",
          "text": [
            "Attempting to get the first item from train_dataset...\n",
            "Successfully retrieved first item.\n",
            "Image type: <class 'torch.Tensor'>, Label type: <class 'torch.Tensor'>\n",
            "Image shape: torch.Size([3, 224, 224])\n"
          ]
        }
      ],
      "source": [
        "# Add this to a new cell BEFORE your training cell\n",
        "try:\n",
        "    print(\"Attempting to get the first item from train_dataset...\")\n",
        "    first_image, first_label = train_dataset[0]\n",
        "    print(f\"Successfully retrieved first item.\")\n",
        "    print(f\"Image type: {type(first_image)}, Label type: {type(first_label)}\")\n",
        "    # If image is a tensor, print shape:\n",
        "    if isinstance(first_image, torch.Tensor):\n",
        "        print(f\"Image shape: {first_image.shape}\")\n",
        "except Exception as e:\n",
        "    print(f\"Error getting first item from train_dataset: {e}\")\n",
        "    import traceback\n",
        "    traceback.print_exc() # Print detailed traceback if there's an error"
      ]
    },
    {
      "cell_type": "code",
      "execution_count": 17,
      "metadata": {
        "colab": {
          "base_uri": "https://localhost:8080/"
        },
        "id": "eomLxYrZvwRP",
        "outputId": "4a8e0913-c8b0-43c7-ca20-bcb9f3dec28f"
      },
      "outputs": [
        {
          "name": "stdout",
          "output_type": "stream",
          "text": [
            "Test Accuracy: 92.89%\n"
          ]
        }
      ],
      "source": [
        "# Add a cell to evaluate on test set\n",
        "test_acc = evaluate_model(model, test_loader)"
      ]
    },
    {
      "cell_type": "code",
      "execution_count": 18,
      "metadata": {
        "colab": {
          "base_uri": "https://localhost:8080/",
          "height": 280
        },
        "id": "r_YU5K8rvyd-",
        "outputId": "c73b0494-9e8d-4f4d-a848-45cf03c1205b"
      },
      "outputs": [
        {
          "data": {
            "image/png": "[encoded data removed]",
            "text/plain": [
              "<Figure size 1500x500 with 2 Axes>"
            ]
          },
          "metadata": {},
          "output_type": "display_data"
        }
      ],
      "source": [
        "# Add a cell to visualize results\n",
        "plt.figure(figsize=(15, 5))\n",
        "\n",
        "plt.subplot(1, 2, 1)\n",
        "plt.plot(train_losses, label='Training Loss')\n",
        "plt.plot(val_losses, label='Validation Loss')\n",
        "plt.title('Loss over Epochs')\n",
        "plt.xlabel('Epochs')\n",
        "plt.ylabel('Loss')\n",
        "plt.legend()\n",
        "\n",
        "plt.subplot(1, 2, 2)\n",
        "plt.plot(train_accs, label='Training Accuracy')\n",
        "plt.plot(val_accs, label='Validation Accuracy')\n",
        "plt.title('Accuracy over Epochs')\n",
        "plt.xlabel('Epochs')\n",
        "plt.ylabel('Accuracy (%)')\n",
        "plt.legend()\n",
        "\n",
        "plt.tight_layout()\n",
        "plt.show()"
      ]
    }
  ],
  "metadata": {
    "accelerator": "GPU",
    "colab": {
      "gpuType": "T4",
      "provenance": []
    },
    "kernelspec": {
      "display_name": "Python 3",
      "name": "python3"
    },
    "language_info": {
      "name": "python"
    }
  },
  "nbformat": 4,
  "nbformat_minor": 0
}
